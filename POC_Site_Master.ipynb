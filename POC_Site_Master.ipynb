{
 "metadata": {
  "language_info": {
   "codemirror_mode": {
    "name": "ipython",
    "version": 3
   },
   "file_extension": ".py",
   "mimetype": "text/x-python",
   "name": "python",
   "nbconvert_exporter": "python",
   "pygments_lexer": "ipython3",
   "version": "3.8.1-final"
  },
  "orig_nbformat": 2,
  "kernelspec": {
   "name": "python3",
   "display_name": "Python 3.8.1 32-bit",
   "metadata": {
    "interpreter": {
     "hash": "df07b04948fcdefd07d686a15c20f5c13147995460fc283da7a7d27998f2a407"
    }
   }
  }
 },
 "nbformat": 4,
 "nbformat_minor": 2,
 "cells": [
  {
   "source": [
    "## 1. Initialization\n",
    "\n",
    "> a. Read the excel/csv containing the entire query-output\n",
    "\n",
    "> b. Initialize the parameters of thresholds, directories, and fields to concat for generating individual as well as combined match-score\n",
    "\n",
    "> c. Get the unique list of countries in present dataframe"
   ],
   "cell_type": "markdown",
   "metadata": {}
  },
  {
   "cell_type": "code",
   "execution_count": 31,
   "metadata": {},
   "outputs": [
    {
     "output_type": "stream",
     "name": "stdout",
     "text": [
      "\nColumns:  ['SOURCE_IDENTIFIER' 'DATA_SOURCE_NAME' 'PROTOCOL_NUMBER' 'SITE_NUM'\n 'UNIQUE_SITE_ID' 'COUNTRY' 'SITE_NAME' 'STATE' 'CITY' 'ADDRESS_LINE_1'\n 'ADDRESS_LINE_2' 'ADDRESS_LINE_3' 'POSTAL_CODE' 'SITE_STATUS'] \n\n\nUnique Countries:  ['United_States']\n"
     ]
    }
   ],
   "source": [
    "import time, numpy as np, pandas as pd, re, string, subprocess #, recordlinkage\n",
    "\n",
    "_STATIC_FILE_NAME=\"SM_Temp_Shortlist.xlsx\"\n",
    "_RAW_SCORES_DIRECTORY='Raw_Scores'\n",
    "_CLEANED_SCORES_DIRECTORY='Cleaned_Scores'\n",
    "_MASTER_DATA_DIRECTORY='Master_Data'\n",
    "_FIELDS_TO_CONCAT={\n",
    "    'CONCAT_ADDRESS':   ['ADDRESS_LINE_1','ADDRESS_LINE_2','ADDRESS_LINE_3']#, 'CONCAT_SRC':       ['SITE_NAME','STATE','CITY','CONCAT_ADDRESS','POSTAL_CODE']\n",
    "                }\n",
    "\n",
    "_COLUMNS_TO_CLEAN=['ADDRESS_LINE_1','ADDRESS_LINE_2','ADDRESS_LINE_3','SITE_NAME','STATE','CITY','POSTAL_CODE']\n",
    "_THRESHOLD_FOR_INDIVIDUAL=0.85\n",
    "#_THRESHOLD_FOR_ENTIRE_COMBINED=0.55\n",
    "_THRESHOLD_FOR_ADDRESS_COMBINED=0.75\n",
    "\n",
    "_THRESHOLDS_DICT={\n",
    "    'CONCAT_ADDRESS': _THRESHOLD_FOR_ADDRESS_COMBINED,\n",
    "    #'CONCAT_SRC': _THRESHOLD_FOR_ENTIRE_COMBINED, \n",
    "    'SITE_NAME': _THRESHOLD_FOR_INDIVIDUAL,\n",
    "    'STATE': _THRESHOLD_FOR_INDIVIDUAL,\n",
    "    'CITY': _THRESHOLD_FOR_INDIVIDUAL,\n",
    "    'POSTAL_CODE': _THRESHOLD_FOR_INDIVIDUAL\n",
    "    }\n",
    "_COLS_FOR_TOTAL_MATCH_CALC=[colname+'_COMPARISON_SCORE' for colname in _THRESHOLDS_DICT]\n",
    "\n",
    "_SCALING_FACTOR=3\n",
    "\n",
    "_TOTAL_MATCHES_THRESHOLD=3\n",
    "\n",
    "\n",
    "def write_df_to_csv(df, root_dir='', curr_country='', file_suffix='_temp.csv', index_flag=False):\n",
    "    try:\n",
    "        abs_path=os.path.join(root_dir, curr_country+file_suffix)\n",
    "        df.to_csv(abs_path, index=index_flag)\n",
    "        print(f'\\nSuccessfully created \\{abs_path}!')\n",
    "    except:\n",
    "        print(f'\\nSomething went wrong while writing the file. Please check if it is currently in use.')\n",
    "\n",
    "\n",
    "def preprocess_dataframe(df):\n",
    "    df.replace(np.nan, '', inplace=True)\n",
    "    for colname in df.columns.values:\n",
    "        if colname=='COUNTRY':\n",
    "            df[colname]=df[colname].apply(lambda x: x.replace(' ','_'))\n",
    "        df[colname]=df[colname].astype(str).apply(lambda x: x.strip())\n",
    "\n",
    "\n",
    "def clean_dataframe(df, replace_punctuations=True):\n",
    "    # todo: Replace another special character which was causing Italy CSV file read to fail in R\n",
    "    if replace_punctuations:\n",
    "        special_chars=re.escape(string.punctuation)\n",
    "        print('\\nSpecial Character that will be replaced are:  ', special_chars) #!\"\\\\#\\\\$%\\\\&\\'\\\\(\\\\)\\\\*\\\\+,\\\\-\\\\./:;<=>\\\\?@\\\\[\\\\\\\\\\\\]\\\\{\\\\|\\\\}\\\\~\n",
    "    for colname in df.columns.values:\n",
    "        if colname in _COLUMNS_TO_CLEAN and replace_punctuations:\n",
    "            df[colname]=df[colname].replace(r'['+special_chars+']', '', regex=True).str.lower()\n",
    "    for colname, cols_to_concat in _FIELDS_TO_CONCAT.items():\n",
    "        df[colname]=df[cols_to_concat].apply(lambda single_row: ''.join(single_row.values), axis=1)\n",
    "    df.drop(labels=_FIELDS_TO_CONCAT['CONCAT_ADDRESS'], axis=1, inplace=True)\n",
    "\n",
    "\n",
    "def scale_up_comparison_score(df, colname='SITE_NAME_COMPARISON_SCORE', scaling_factor=_SCALING_FACTOR):\n",
    "    print(f'\\nScaling up {colname} by {scaling_factor}')\n",
    "    df[colname]=df[colname].apply(lambda x: x*scaling_factor)\n",
    "\n",
    "\n",
    "def replace_cyclic_dependencies(df, child_indicator, master_indicator):\n",
    "    arr=set(df[child_indicator].array)\n",
    "    for val in df[master_indicator]:\n",
    "        if val in arr:\n",
    "            replace_val=df[df[child_indicator]==val][master_indicator].values[0]\n",
    "            print(val,' found in normalized_duplicates[',child_indicator,']. Replacement: ', replace_val)\n",
    "            df[master_indicator].replace(val, replace_val, inplace=True)\n",
    "    return df\n",
    "\n",
    "\n",
    "def return_top_match(df, child_column, score_key_column):\n",
    "    normalized_duplicates=df.sort_values(by=[child_column]).sort_values(by=[score_key_column],ascending=False)\n",
    "    normalized_duplicates=normalized_duplicates.groupby(child_column).head(1).sort_values(by=[child_column])\n",
    "    return normalized_duplicates\n",
    "\n",
    "\n",
    "site_master_df=pd.read_excel(_STATIC_FILE_NAME, index_col=0)\n",
    "preprocess_dataframe(site_master_df)\n",
    "\n",
    "print('\\nColumns: ', site_master_df.columns.values,'\\n')\n",
    "countries=site_master_df['COUNTRY'].unique()\n",
    "print('\\nUnique Countries: ',countries)"
   ]
  },
  {
   "source": [
    "## 2. Process data in batches: getting scores of all the candidate-pairs is highly computation intensive. RAM crashes for incoming batch-size>4000\n",
    "> a. Partition the entire input dataset based on country-name. For-loop to do the entire process for all countries.\n",
    "\n",
    "> b. Create a concatenated (address) field and drop the individual 3 address fields\n",
    "\n",
    "> c. Create a concatenated (name, address) field"
   ],
   "cell_type": "markdown",
   "metadata": {}
  },
  {
   "cell_type": "code",
   "execution_count": 32,
   "metadata": {},
   "outputs": [
    {
     "output_type": "stream",
     "name": "stdout",
     "text": [
      "United_States\n\nSpecial Character that will be replaced are:   !\"\\#\\$%\\&'\\(\\)\\*\\+,\\-\\./:;<=>\\?@\\[\\\\\\]\\^_`\\{\\|\\}\\~\n\nSuccessfully created \\United_States_country_df.csv!\n\nUnited_States has 1900 records\n"
     ]
    }
   ],
   "source": [
    "# todo: Research on multithreading to speed up country-wise batches. RAM might crash for incoming batch-size>4000.\n",
    "\n",
    "i=0\n",
    "curr_country=countries[i]\n",
    "country_df=site_master_df[site_master_df['COUNTRY']==curr_country]\n",
    "print(curr_country)\n",
    "clean_dataframe(country_df)\n",
    "write_df_to_csv(df=country_df[_THRESHOLDS_DICT.keys()], curr_country=curr_country, file_suffix='_country_df.csv', index_flag=True)\n",
    "\n",
    "# todo: Imputation of address values where Site-name is exactly the same, otherwise it'll result in 2 separate master-records\n",
    "\n",
    "print(f'\\n{curr_country} has {country_df.shape[0]} records')"
   ]
  },
  {
   "source": [
    "## 3. Initialize the candidate-pairs for comparison via the Index() object, and a Comparer() object with set of fields to compare amongst the candidate pairs\n",
    "\n",
    "### Currently configured to run this match-score generation in R, such that:\n",
    "\n",
    "> if individual fields' match-score > 85% , then set the *_col_*_COMPARISON_SCORE column to 1, else 0\n",
    "\n",
    "> if combined address-fields' match-score > 75% , then set the CONCAT_ADDRESS_COMPARISON_SCORE column to 1, else 0\n",
    "\n",
    "### Comparer algorithm can be: 'jaro', 'jarowinkler', 'levenshtein', 'damerau_levenshtein', 'qgram', 'cosine', 'smith_waterman', 'lcs'\n",
    "\n",
    "### You can also set n_job=-1 to use up all cores available for parallel-computation of scores for the candidate-pairs."
   ],
   "cell_type": "markdown",
   "metadata": {}
  },
  {
   "cell_type": "code",
   "execution_count": null,
   "metadata": {},
   "outputs": [],
   "source": [
    "# todo: check if non-latin scripts can be handled. It seems to be able to handle UTF-8 encoding data\n",
    "# todo: invoke a bash script to remove out special characters in csv file and then invoke the R-code from Python\n",
    "\"\"\"\n",
    "def add_field_to_compare(comparer_obj, field_name, threshold, method='levenshtein'):\n",
    "    comparer_obj.string( field_name, field_name, method=method, threshold=threshold, label=field_name+'_COMPARISON_SCORE' )\n",
    "\n",
    "\n",
    "indexer=recordlinkage.Index()\n",
    "indexer.block(left_on='COUNTRY')\n",
    "candidates=indexer.index(country_df)\n",
    "print('\\nNumber of candidate-pairs for match consideration=',len(candidates))\n",
    "\n",
    "# todo: Read source code to figure out how is number of pairs reduced? Possibly uses only unique combinations rather than permutations\n",
    "\n",
    "comparer=recordlinkage.Compare(n_jobs=-1)\n",
    "\n",
    "for column, threshold in _THRESHOLDS_DICT.items():\n",
    "    add_field_to_compare(comparer, column, threshold)\n",
    "\n",
    "print('Comparer created with individual-fields\\' threshold=', _THRESHOLD_FOR_INDIVIDUAL, ' , combined-address-field threshold=', _THRESHOLD_FOR_ADDRESS_COMBINED, ' , and combined-entire-field threshold=', _THRESHOLD_FOR_ENTIRE_COMBINED)\n",
    "\n",
    "start=time.time()\n",
    "print('\\n\\n Starting computation for match-scores... \\n')\n",
    "score_features=comparer.compute(candidates, country_df)\n",
    "print(time.time()-start,' seconds needed for ',country_df.shape[0],' records.')\n",
    "print('\\n\\nScore_features generated: ', score_features.shape)\n",
    "\"\"\""
   ]
  },
  {
   "source": [
    "## 4. Get the set of potential duplicates where TOTAL_SCORE > THRESHOLD\n",
    "\n",
    "### Currently configured to perform this in R itself.\n",
    "\n",
    "> R code will finally generate the *Country*_Score_Features.csv in the /Raw_Scores/ directory"
   ],
   "cell_type": "markdown",
   "metadata": {}
  },
  {
   "source": [
    "\"\"\"\n",
    "scale_up_comparison_score(score_features,'CONCAT_ADDRESS_COMPARISON_SCORE', _SCALING_FACTOR)\n",
    "\n",
    "write_df_to_csv(df=score_features, root_dir=_RAW_SCORES_DIRECTORY, curr_country=curr_country, file_suffix='_Score_Features.csv', index_flag=True)\n",
    "\n",
    "duplicates=score_features[score_features.sum(axis=1) > _TOTAL_MATCHES_THRESHOLD].reset_index()\n",
    "duplicates['NUM_OF_MATCHES_FOUND']=duplicates[_COLS_FOR_TOTAL_MATCH_CALC].sum(axis=1)\n",
    "\"\"\"\n",
    "duplicates=pd.read_csv(os.path.join(_RAW_SCORES_DIRECTORY, curr_country+'_Score_Features.csv'))\n",
    "duplicates.head(30)"
   ],
   "cell_type": "code",
   "metadata": {},
   "execution_count": 33,
   "outputs": [
    {
     "output_type": "execute_result",
     "data": {
      "text/plain": [
       "    SR_NUM_1  SR_NUM_2  SITE_NAME_COMPARISON_SCORE  STATE_COMPARISON_SCORE  \\\n",
       "0          3         1                           1                       1   \n",
       "1        154         1                           1                       1   \n",
       "2        234         1                           1                       1   \n",
       "3        235         1                           1                       1   \n",
       "4        277         1                           1                       1   \n",
       "5        278         1                           1                       1   \n",
       "6        316         1                           1                       1   \n",
       "7        317         1                           1                       1   \n",
       "8        319         1                           1                       1   \n",
       "9         41         2                           1                       1   \n",
       "10       141         2                           1                       1   \n",
       "11       153         2                           1                       1   \n",
       "12       318         2                           1                       1   \n",
       "13       154         3                           1                       1   \n",
       "14       234         3                           1                       1   \n",
       "15       235         3                           1                       1   \n",
       "16       277         3                           1                       1   \n",
       "17       278         3                           1                       1   \n",
       "18       316         3                           1                       1   \n",
       "19       317         3                           1                       1   \n",
       "20       319         3                           1                       1   \n",
       "21        44         5                           0                       1   \n",
       "22       245         5                           0                       1   \n",
       "23       246         5                           0                       1   \n",
       "24       146         6                           0                       1   \n",
       "25       247         6                           0                       1   \n",
       "26       323         6                           0                       1   \n",
       "27       325         6                           1                       1   \n",
       "28       326         6                           0                       1   \n",
       "29       364         6                           1                       1   \n",
       "\n",
       "    CITY_COMPARISON_SCORE  POSTAL_CODE_COMPARISON_SCORE  \\\n",
       "0                       1                             1   \n",
       "1                       1                             1   \n",
       "2                       1                             1   \n",
       "3                       1                             1   \n",
       "4                       1                             1   \n",
       "5                       1                             1   \n",
       "6                       1                             1   \n",
       "7                       1                             1   \n",
       "8                       1                             1   \n",
       "9                       1                             1   \n",
       "10                      1                             1   \n",
       "11                      1                             1   \n",
       "12                      1                             1   \n",
       "13                      1                             1   \n",
       "14                      1                             1   \n",
       "15                      1                             1   \n",
       "16                      1                             1   \n",
       "17                      1                             1   \n",
       "18                      1                             1   \n",
       "19                      1                             1   \n",
       "20                      1                             1   \n",
       "21                      1                             1   \n",
       "22                      1                             1   \n",
       "23                      1                             1   \n",
       "24                      1                             1   \n",
       "25                      1                             1   \n",
       "26                      1                             0   \n",
       "27                      1                             1   \n",
       "28                      1                             1   \n",
       "29                      1                             1   \n",
       "\n",
       "    CONCAT_ADDRESS_COMPARISON_SCORE  NUM_OF_MATCHES_FOUND  \n",
       "0                                 3                     7  \n",
       "1                                 3                     7  \n",
       "2                                 3                     7  \n",
       "3                                 3                     7  \n",
       "4                                 3                     7  \n",
       "5                                 3                     7  \n",
       "6                                 3                     7  \n",
       "7                                 3                     7  \n",
       "8                                 3                     7  \n",
       "9                                 3                     7  \n",
       "10                                3                     7  \n",
       "11                                3                     7  \n",
       "12                                3                     7  \n",
       "13                                3                     7  \n",
       "14                                3                     7  \n",
       "15                                3                     7  \n",
       "16                                3                     7  \n",
       "17                                3                     7  \n",
       "18                                3                     7  \n",
       "19                                3                     7  \n",
       "20                                3                     7  \n",
       "21                                3                     6  \n",
       "22                                3                     6  \n",
       "23                                3                     6  \n",
       "24                                3                     6  \n",
       "25                                3                     6  \n",
       "26                                3                     5  \n",
       "27                                3                     7  \n",
       "28                                3                     6  \n",
       "29                                0                     4  "
      ],
      "text/html": "<div>\n<style scoped>\n    .dataframe tbody tr th:only-of-type {\n        vertical-align: middle;\n    }\n\n    .dataframe tbody tr th {\n        vertical-align: top;\n    }\n\n    .dataframe thead th {\n        text-align: right;\n    }\n</style>\n<table border=\"1\" class=\"dataframe\">\n  <thead>\n    <tr style=\"text-align: right;\">\n      <th></th>\n      <th>SR_NUM_1</th>\n      <th>SR_NUM_2</th>\n      <th>SITE_NAME_COMPARISON_SCORE</th>\n      <th>STATE_COMPARISON_SCORE</th>\n      <th>CITY_COMPARISON_SCORE</th>\n      <th>POSTAL_CODE_COMPARISON_SCORE</th>\n      <th>CONCAT_ADDRESS_COMPARISON_SCORE</th>\n      <th>NUM_OF_MATCHES_FOUND</th>\n    </tr>\n  </thead>\n  <tbody>\n    <tr>\n      <th>0</th>\n      <td>3</td>\n      <td>1</td>\n      <td>1</td>\n      <td>1</td>\n      <td>1</td>\n      <td>1</td>\n      <td>3</td>\n      <td>7</td>\n    </tr>\n    <tr>\n      <th>1</th>\n      <td>154</td>\n      <td>1</td>\n      <td>1</td>\n      <td>1</td>\n      <td>1</td>\n      <td>1</td>\n      <td>3</td>\n      <td>7</td>\n    </tr>\n    <tr>\n      <th>2</th>\n      <td>234</td>\n      <td>1</td>\n      <td>1</td>\n      <td>1</td>\n      <td>1</td>\n      <td>1</td>\n      <td>3</td>\n      <td>7</td>\n    </tr>\n    <tr>\n      <th>3</th>\n      <td>235</td>\n      <td>1</td>\n      <td>1</td>\n      <td>1</td>\n      <td>1</td>\n      <td>1</td>\n      <td>3</td>\n      <td>7</td>\n    </tr>\n    <tr>\n      <th>4</th>\n      <td>277</td>\n      <td>1</td>\n      <td>1</td>\n      <td>1</td>\n      <td>1</td>\n      <td>1</td>\n      <td>3</td>\n      <td>7</td>\n    </tr>\n    <tr>\n      <th>5</th>\n      <td>278</td>\n      <td>1</td>\n      <td>1</td>\n      <td>1</td>\n      <td>1</td>\n      <td>1</td>\n      <td>3</td>\n      <td>7</td>\n    </tr>\n    <tr>\n      <th>6</th>\n      <td>316</td>\n      <td>1</td>\n      <td>1</td>\n      <td>1</td>\n      <td>1</td>\n      <td>1</td>\n      <td>3</td>\n      <td>7</td>\n    </tr>\n    <tr>\n      <th>7</th>\n      <td>317</td>\n      <td>1</td>\n      <td>1</td>\n      <td>1</td>\n      <td>1</td>\n      <td>1</td>\n      <td>3</td>\n      <td>7</td>\n    </tr>\n    <tr>\n      <th>8</th>\n      <td>319</td>\n      <td>1</td>\n      <td>1</td>\n      <td>1</td>\n      <td>1</td>\n      <td>1</td>\n      <td>3</td>\n      <td>7</td>\n    </tr>\n    <tr>\n      <th>9</th>\n      <td>41</td>\n      <td>2</td>\n      <td>1</td>\n      <td>1</td>\n      <td>1</td>\n      <td>1</td>\n      <td>3</td>\n      <td>7</td>\n    </tr>\n    <tr>\n      <th>10</th>\n      <td>141</td>\n      <td>2</td>\n      <td>1</td>\n      <td>1</td>\n      <td>1</td>\n      <td>1</td>\n      <td>3</td>\n      <td>7</td>\n    </tr>\n    <tr>\n      <th>11</th>\n      <td>153</td>\n      <td>2</td>\n      <td>1</td>\n      <td>1</td>\n      <td>1</td>\n      <td>1</td>\n      <td>3</td>\n      <td>7</td>\n    </tr>\n    <tr>\n      <th>12</th>\n      <td>318</td>\n      <td>2</td>\n      <td>1</td>\n      <td>1</td>\n      <td>1</td>\n      <td>1</td>\n      <td>3</td>\n      <td>7</td>\n    </tr>\n    <tr>\n      <th>13</th>\n      <td>154</td>\n      <td>3</td>\n      <td>1</td>\n      <td>1</td>\n      <td>1</td>\n      <td>1</td>\n      <td>3</td>\n      <td>7</td>\n    </tr>\n    <tr>\n      <th>14</th>\n      <td>234</td>\n      <td>3</td>\n      <td>1</td>\n      <td>1</td>\n      <td>1</td>\n      <td>1</td>\n      <td>3</td>\n      <td>7</td>\n    </tr>\n    <tr>\n      <th>15</th>\n      <td>235</td>\n      <td>3</td>\n      <td>1</td>\n      <td>1</td>\n      <td>1</td>\n      <td>1</td>\n      <td>3</td>\n      <td>7</td>\n    </tr>\n    <tr>\n      <th>16</th>\n      <td>277</td>\n      <td>3</td>\n      <td>1</td>\n      <td>1</td>\n      <td>1</td>\n      <td>1</td>\n      <td>3</td>\n      <td>7</td>\n    </tr>\n    <tr>\n      <th>17</th>\n      <td>278</td>\n      <td>3</td>\n      <td>1</td>\n      <td>1</td>\n      <td>1</td>\n      <td>1</td>\n      <td>3</td>\n      <td>7</td>\n    </tr>\n    <tr>\n      <th>18</th>\n      <td>316</td>\n      <td>3</td>\n      <td>1</td>\n      <td>1</td>\n      <td>1</td>\n      <td>1</td>\n      <td>3</td>\n      <td>7</td>\n    </tr>\n    <tr>\n      <th>19</th>\n      <td>317</td>\n      <td>3</td>\n      <td>1</td>\n      <td>1</td>\n      <td>1</td>\n      <td>1</td>\n      <td>3</td>\n      <td>7</td>\n    </tr>\n    <tr>\n      <th>20</th>\n      <td>319</td>\n      <td>3</td>\n      <td>1</td>\n      <td>1</td>\n      <td>1</td>\n      <td>1</td>\n      <td>3</td>\n      <td>7</td>\n    </tr>\n    <tr>\n      <th>21</th>\n      <td>44</td>\n      <td>5</td>\n      <td>0</td>\n      <td>1</td>\n      <td>1</td>\n      <td>1</td>\n      <td>3</td>\n      <td>6</td>\n    </tr>\n    <tr>\n      <th>22</th>\n      <td>245</td>\n      <td>5</td>\n      <td>0</td>\n      <td>1</td>\n      <td>1</td>\n      <td>1</td>\n      <td>3</td>\n      <td>6</td>\n    </tr>\n    <tr>\n      <th>23</th>\n      <td>246</td>\n      <td>5</td>\n      <td>0</td>\n      <td>1</td>\n      <td>1</td>\n      <td>1</td>\n      <td>3</td>\n      <td>6</td>\n    </tr>\n    <tr>\n      <th>24</th>\n      <td>146</td>\n      <td>6</td>\n      <td>0</td>\n      <td>1</td>\n      <td>1</td>\n      <td>1</td>\n      <td>3</td>\n      <td>6</td>\n    </tr>\n    <tr>\n      <th>25</th>\n      <td>247</td>\n      <td>6</td>\n      <td>0</td>\n      <td>1</td>\n      <td>1</td>\n      <td>1</td>\n      <td>3</td>\n      <td>6</td>\n    </tr>\n    <tr>\n      <th>26</th>\n      <td>323</td>\n      <td>6</td>\n      <td>0</td>\n      <td>1</td>\n      <td>1</td>\n      <td>0</td>\n      <td>3</td>\n      <td>5</td>\n    </tr>\n    <tr>\n      <th>27</th>\n      <td>325</td>\n      <td>6</td>\n      <td>1</td>\n      <td>1</td>\n      <td>1</td>\n      <td>1</td>\n      <td>3</td>\n      <td>7</td>\n    </tr>\n    <tr>\n      <th>28</th>\n      <td>326</td>\n      <td>6</td>\n      <td>0</td>\n      <td>1</td>\n      <td>1</td>\n      <td>1</td>\n      <td>3</td>\n      <td>6</td>\n    </tr>\n    <tr>\n      <th>29</th>\n      <td>364</td>\n      <td>6</td>\n      <td>1</td>\n      <td>1</td>\n      <td>1</td>\n      <td>1</td>\n      <td>0</td>\n      <td>4</td>\n    </tr>\n  </tbody>\n</table>\n</div>"
     },
     "metadata": {},
     "execution_count": 33
    }
   ]
  },
  {
   "source": [
    "## 5. Choose the best match for incoming child records based on highest total-score"
   ],
   "cell_type": "markdown",
   "metadata": {}
  },
  {
   "cell_type": "code",
   "execution_count": 34,
   "metadata": {},
   "outputs": [
    {
     "output_type": "execute_result",
     "data": {
      "text/plain": [
       "     SR_NUM_1  SR_NUM_2  SITE_NAME_COMPARISON_SCORE  STATE_COMPARISON_SCORE  \\\n",
       "0           3         1                           1                       1   \n",
       "62         30        29                           1                       1   \n",
       "50         34        24                           0                       0   \n",
       "9          41         2                           1                       1   \n",
       "21         44         5                           0                       1   \n",
       "72         54        33                           0                       1   \n",
       "135        57        56                           0                       1   \n",
       "131        59        54                           0                       1   \n",
       "138        61        58                           0                       1   \n",
       "60         63        28                           1                       1   \n",
       "146        67        62                           0                       1   \n",
       "47         68        22                           0                       1   \n",
       "155        73        72                           1                       1   \n",
       "84         74        38                           0                       1   \n",
       "165        79        78                           0                       1   \n",
       "180        89        88                           0                       1   \n",
       "181        91        90                           1                       1   \n",
       "182        92        90                           1                       1   \n",
       "187        94        93                           1                       1   \n",
       "189        97        96                           1                       1   \n",
       "190       100        96                           1                       1   \n",
       "213       108       106                           0                       1   \n",
       "90        111        40                           1                       0   \n",
       "249       113       112                           0                       1   \n",
       "91        124        40                           1                       0   \n",
       "214       133       106                           0                       1   \n",
       "233       137       111                           1                       0   \n",
       "10        141         2                           1                       1   \n",
       "24        146         6                           0                       1   \n",
       "109       153        41                           1                       1   \n",
       "\n",
       "     CITY_COMPARISON_SCORE  POSTAL_CODE_COMPARISON_SCORE  \\\n",
       "0                        1                             1   \n",
       "62                       1                             1   \n",
       "50                       1                             0   \n",
       "9                        1                             1   \n",
       "21                       1                             1   \n",
       "72                       1                             1   \n",
       "135                      1                             1   \n",
       "131                      1                             1   \n",
       "138                      0                             1   \n",
       "60                       1                             0   \n",
       "146                      1                             0   \n",
       "47                       1                             1   \n",
       "155                      1                             1   \n",
       "84                       1                             1   \n",
       "165                      1                             0   \n",
       "180                      1                             1   \n",
       "181                      1                             1   \n",
       "182                      1                             1   \n",
       "187                      1                             1   \n",
       "189                      1                             1   \n",
       "190                      1                             1   \n",
       "213                      1                             1   \n",
       "90                       0                             0   \n",
       "249                      1                             1   \n",
       "91                       0                             0   \n",
       "214                      1                             1   \n",
       "233                      0                             0   \n",
       "10                       1                             1   \n",
       "24                       1                             1   \n",
       "109                      1                             1   \n",
       "\n",
       "     CONCAT_ADDRESS_COMPARISON_SCORE  NUM_OF_MATCHES_FOUND  \n",
       "0                                  3                     7  \n",
       "62                                 3                     7  \n",
       "50                                 3                     4  \n",
       "9                                  3                     7  \n",
       "21                                 3                     6  \n",
       "72                                 3                     6  \n",
       "135                                3                     6  \n",
       "131                                3                     6  \n",
       "138                                3                     5  \n",
       "60                                 3                     6  \n",
       "146                                3                     5  \n",
       "47                                 3                     6  \n",
       "155                                3                     7  \n",
       "84                                 3                     6  \n",
       "165                                3                     5  \n",
       "180                                3                     6  \n",
       "181                                0                     4  \n",
       "182                                0                     4  \n",
       "187                                3                     7  \n",
       "189                                0                     4  \n",
       "190                                3                     7  \n",
       "213                                3                     6  \n",
       "90                                 3                     4  \n",
       "249                                3                     6  \n",
       "91                                 3                     4  \n",
       "214                                3                     6  \n",
       "233                                3                     4  \n",
       "10                                 3                     7  \n",
       "24                                 3                     6  \n",
       "109                                3                     7  "
      ],
      "text/html": "<div>\n<style scoped>\n    .dataframe tbody tr th:only-of-type {\n        vertical-align: middle;\n    }\n\n    .dataframe tbody tr th {\n        vertical-align: top;\n    }\n\n    .dataframe thead th {\n        text-align: right;\n    }\n</style>\n<table border=\"1\" class=\"dataframe\">\n  <thead>\n    <tr style=\"text-align: right;\">\n      <th></th>\n      <th>SR_NUM_1</th>\n      <th>SR_NUM_2</th>\n      <th>SITE_NAME_COMPARISON_SCORE</th>\n      <th>STATE_COMPARISON_SCORE</th>\n      <th>CITY_COMPARISON_SCORE</th>\n      <th>POSTAL_CODE_COMPARISON_SCORE</th>\n      <th>CONCAT_ADDRESS_COMPARISON_SCORE</th>\n      <th>NUM_OF_MATCHES_FOUND</th>\n    </tr>\n  </thead>\n  <tbody>\n    <tr>\n      <th>0</th>\n      <td>3</td>\n      <td>1</td>\n      <td>1</td>\n      <td>1</td>\n      <td>1</td>\n      <td>1</td>\n      <td>3</td>\n      <td>7</td>\n    </tr>\n    <tr>\n      <th>62</th>\n      <td>30</td>\n      <td>29</td>\n      <td>1</td>\n      <td>1</td>\n      <td>1</td>\n      <td>1</td>\n      <td>3</td>\n      <td>7</td>\n    </tr>\n    <tr>\n      <th>50</th>\n      <td>34</td>\n      <td>24</td>\n      <td>0</td>\n      <td>0</td>\n      <td>1</td>\n      <td>0</td>\n      <td>3</td>\n      <td>4</td>\n    </tr>\n    <tr>\n      <th>9</th>\n      <td>41</td>\n      <td>2</td>\n      <td>1</td>\n      <td>1</td>\n      <td>1</td>\n      <td>1</td>\n      <td>3</td>\n      <td>7</td>\n    </tr>\n    <tr>\n      <th>21</th>\n      <td>44</td>\n      <td>5</td>\n      <td>0</td>\n      <td>1</td>\n      <td>1</td>\n      <td>1</td>\n      <td>3</td>\n      <td>6</td>\n    </tr>\n    <tr>\n      <th>72</th>\n      <td>54</td>\n      <td>33</td>\n      <td>0</td>\n      <td>1</td>\n      <td>1</td>\n      <td>1</td>\n      <td>3</td>\n      <td>6</td>\n    </tr>\n    <tr>\n      <th>135</th>\n      <td>57</td>\n      <td>56</td>\n      <td>0</td>\n      <td>1</td>\n      <td>1</td>\n      <td>1</td>\n      <td>3</td>\n      <td>6</td>\n    </tr>\n    <tr>\n      <th>131</th>\n      <td>59</td>\n      <td>54</td>\n      <td>0</td>\n      <td>1</td>\n      <td>1</td>\n      <td>1</td>\n      <td>3</td>\n      <td>6</td>\n    </tr>\n    <tr>\n      <th>138</th>\n      <td>61</td>\n      <td>58</td>\n      <td>0</td>\n      <td>1</td>\n      <td>0</td>\n      <td>1</td>\n      <td>3</td>\n      <td>5</td>\n    </tr>\n    <tr>\n      <th>60</th>\n      <td>63</td>\n      <td>28</td>\n      <td>1</td>\n      <td>1</td>\n      <td>1</td>\n      <td>0</td>\n      <td>3</td>\n      <td>6</td>\n    </tr>\n    <tr>\n      <th>146</th>\n      <td>67</td>\n      <td>62</td>\n      <td>0</td>\n      <td>1</td>\n      <td>1</td>\n      <td>0</td>\n      <td>3</td>\n      <td>5</td>\n    </tr>\n    <tr>\n      <th>47</th>\n      <td>68</td>\n      <td>22</td>\n      <td>0</td>\n      <td>1</td>\n      <td>1</td>\n      <td>1</td>\n      <td>3</td>\n      <td>6</td>\n    </tr>\n    <tr>\n      <th>155</th>\n      <td>73</td>\n      <td>72</td>\n      <td>1</td>\n      <td>1</td>\n      <td>1</td>\n      <td>1</td>\n      <td>3</td>\n      <td>7</td>\n    </tr>\n    <tr>\n      <th>84</th>\n      <td>74</td>\n      <td>38</td>\n      <td>0</td>\n      <td>1</td>\n      <td>1</td>\n      <td>1</td>\n      <td>3</td>\n      <td>6</td>\n    </tr>\n    <tr>\n      <th>165</th>\n      <td>79</td>\n      <td>78</td>\n      <td>0</td>\n      <td>1</td>\n      <td>1</td>\n      <td>0</td>\n      <td>3</td>\n      <td>5</td>\n    </tr>\n    <tr>\n      <th>180</th>\n      <td>89</td>\n      <td>88</td>\n      <td>0</td>\n      <td>1</td>\n      <td>1</td>\n      <td>1</td>\n      <td>3</td>\n      <td>6</td>\n    </tr>\n    <tr>\n      <th>181</th>\n      <td>91</td>\n      <td>90</td>\n      <td>1</td>\n      <td>1</td>\n      <td>1</td>\n      <td>1</td>\n      <td>0</td>\n      <td>4</td>\n    </tr>\n    <tr>\n      <th>182</th>\n      <td>92</td>\n      <td>90</td>\n      <td>1</td>\n      <td>1</td>\n      <td>1</td>\n      <td>1</td>\n      <td>0</td>\n      <td>4</td>\n    </tr>\n    <tr>\n      <th>187</th>\n      <td>94</td>\n      <td>93</td>\n      <td>1</td>\n      <td>1</td>\n      <td>1</td>\n      <td>1</td>\n      <td>3</td>\n      <td>7</td>\n    </tr>\n    <tr>\n      <th>189</th>\n      <td>97</td>\n      <td>96</td>\n      <td>1</td>\n      <td>1</td>\n      <td>1</td>\n      <td>1</td>\n      <td>0</td>\n      <td>4</td>\n    </tr>\n    <tr>\n      <th>190</th>\n      <td>100</td>\n      <td>96</td>\n      <td>1</td>\n      <td>1</td>\n      <td>1</td>\n      <td>1</td>\n      <td>3</td>\n      <td>7</td>\n    </tr>\n    <tr>\n      <th>213</th>\n      <td>108</td>\n      <td>106</td>\n      <td>0</td>\n      <td>1</td>\n      <td>1</td>\n      <td>1</td>\n      <td>3</td>\n      <td>6</td>\n    </tr>\n    <tr>\n      <th>90</th>\n      <td>111</td>\n      <td>40</td>\n      <td>1</td>\n      <td>0</td>\n      <td>0</td>\n      <td>0</td>\n      <td>3</td>\n      <td>4</td>\n    </tr>\n    <tr>\n      <th>249</th>\n      <td>113</td>\n      <td>112</td>\n      <td>0</td>\n      <td>1</td>\n      <td>1</td>\n      <td>1</td>\n      <td>3</td>\n      <td>6</td>\n    </tr>\n    <tr>\n      <th>91</th>\n      <td>124</td>\n      <td>40</td>\n      <td>1</td>\n      <td>0</td>\n      <td>0</td>\n      <td>0</td>\n      <td>3</td>\n      <td>4</td>\n    </tr>\n    <tr>\n      <th>214</th>\n      <td>133</td>\n      <td>106</td>\n      <td>0</td>\n      <td>1</td>\n      <td>1</td>\n      <td>1</td>\n      <td>3</td>\n      <td>6</td>\n    </tr>\n    <tr>\n      <th>233</th>\n      <td>137</td>\n      <td>111</td>\n      <td>1</td>\n      <td>0</td>\n      <td>0</td>\n      <td>0</td>\n      <td>3</td>\n      <td>4</td>\n    </tr>\n    <tr>\n      <th>10</th>\n      <td>141</td>\n      <td>2</td>\n      <td>1</td>\n      <td>1</td>\n      <td>1</td>\n      <td>1</td>\n      <td>3</td>\n      <td>7</td>\n    </tr>\n    <tr>\n      <th>24</th>\n      <td>146</td>\n      <td>6</td>\n      <td>0</td>\n      <td>1</td>\n      <td>1</td>\n      <td>1</td>\n      <td>3</td>\n      <td>6</td>\n    </tr>\n    <tr>\n      <th>109</th>\n      <td>153</td>\n      <td>41</td>\n      <td>1</td>\n      <td>1</td>\n      <td>1</td>\n      <td>1</td>\n      <td>3</td>\n      <td>7</td>\n    </tr>\n  </tbody>\n</table>\n</div>"
     },
     "metadata": {},
     "execution_count": 34
    }
   ],
   "source": [
    "normalized_duplicates=return_top_match(df=duplicates, child_column='SR_NUM_1', score_key_column='NUM_OF_MATCHES_FOUND')\n",
    "normalized_duplicates.head(30)"
   ]
  },
  {
   "source": [
    "## 5. Reusable function to replace the cyclic matches\n",
    "### For example:\n",
    "\n",
    ">   Record45 matches with Record44\n",
    "\n",
    ">   Record67 matches with Record45\n",
    "\n",
    "### In this case we should maintain:\n",
    ">   Record67 matches with Record44"
   ],
   "cell_type": "markdown",
   "metadata": {}
  },
  {
   "cell_type": "code",
   "execution_count": 35,
   "metadata": {
    "tags": []
   },
   "outputs": [
    {
     "output_type": "stream",
     "name": "stdout",
     "text": [
      "54  found in normalized_duplicates[ SR_NUM_1 ]. Replacement:  33\n111  found in normalized_duplicates[ SR_NUM_1 ]. Replacement:  40\n41  found in normalized_duplicates[ SR_NUM_1 ]. Replacement:  2\n155  found in normalized_duplicates[ SR_NUM_1 ]. Replacement:  42\n30  found in normalized_duplicates[ SR_NUM_1 ]. Replacement:  29\n183  found in normalized_duplicates[ SR_NUM_1 ]. Replacement:  33\n192  found in normalized_duplicates[ SR_NUM_1 ]. Replacement:  86\n100  found in normalized_duplicates[ SR_NUM_1 ]. Replacement:  96\n61  found in normalized_duplicates[ SR_NUM_1 ]. Replacement:  58\n3  found in normalized_duplicates[ SR_NUM_1 ]. Replacement:  1\n170  found in normalized_duplicates[ SR_NUM_1 ]. Replacement:  42\n158  found in normalized_duplicates[ SR_NUM_1 ]. Replacement:  148\n245  found in normalized_duplicates[ SR_NUM_1 ]. Replacement:  5\n242  found in normalized_duplicates[ SR_NUM_1 ]. Replacement:  46\n189  found in normalized_duplicates[ SR_NUM_1 ]. Replacement:  26\n191  found in normalized_duplicates[ SR_NUM_1 ]. Replacement:  138\n124  found in normalized_duplicates[ SR_NUM_1 ]. Replacement:  40\n235  found in normalized_duplicates[ SR_NUM_1 ]. Replacement:  1\n267  found in normalized_duplicates[ SR_NUM_1 ]. Replacement:  42\n280  found in normalized_duplicates[ SR_NUM_1 ]. Replacement:  135\n161  found in normalized_duplicates[ SR_NUM_1 ]. Replacement:  10\n67  found in normalized_duplicates[ SR_NUM_1 ]. Replacement:  62\n178  found in normalized_duplicates[ SR_NUM_1 ]. Replacement:  29\n74  found in normalized_duplicates[ SR_NUM_1 ]. Replacement:  38\n154  found in normalized_duplicates[ SR_NUM_1 ]. Replacement:  1\n237  found in normalized_duplicates[ SR_NUM_1 ]. Replacement:  142\n44  found in normalized_duplicates[ SR_NUM_1 ]. Replacement:  5\n247  found in normalized_duplicates[ SR_NUM_1 ]. Replacement:  6\n34  found in normalized_duplicates[ SR_NUM_1 ]. Replacement:  24\n220  found in normalized_duplicates[ SR_NUM_1 ]. Replacement:  40\n371  found in normalized_duplicates[ SR_NUM_1 ]. Replacement:  368\n216  found in normalized_duplicates[ SR_NUM_1 ]. Replacement:  50\n229  found in normalized_duplicates[ SR_NUM_1 ]. Replacement:  58\n232  found in normalized_duplicates[ SR_NUM_1 ]. Replacement:  103\n97  found in normalized_duplicates[ SR_NUM_1 ]. Replacement:  96\n543  found in normalized_duplicates[ SR_NUM_1 ]. Replacement:  172\n184  found in normalized_duplicates[ SR_NUM_1 ]. Replacement:  33\n286  found in normalized_duplicates[ SR_NUM_1 ]. Replacement:  16\n301  found in normalized_duplicates[ SR_NUM_1 ]. Replacement:  62\n63  found in normalized_duplicates[ SR_NUM_1 ]. Replacement:  28\n233  found in normalized_duplicates[ SR_NUM_1 ]. Replacement:  132\n589  found in normalized_duplicates[ SR_NUM_1 ]. Replacement:  262\n353  found in normalized_duplicates[ SR_NUM_1 ]. Replacement:  40\n373  found in normalized_duplicates[ SR_NUM_1 ]. Replacement:  276\n361  found in normalized_duplicates[ SR_NUM_1 ]. Replacement:  271\n108  found in normalized_duplicates[ SR_NUM_1 ]. Replacement:  106\n285  found in normalized_duplicates[ SR_NUM_1 ]. Replacement:  10\n223  found in normalized_duplicates[ SR_NUM_1 ]. Replacement:  80\n822  found in normalized_duplicates[ SR_NUM_1 ]. Replacement:  80\n213  found in normalized_duplicates[ SR_NUM_1 ]. Replacement:  212\n73  found in normalized_duplicates[ SR_NUM_1 ]. Replacement:  72\n308  found in normalized_duplicates[ SR_NUM_1 ]. Replacement:  33\n846  found in normalized_duplicates[ SR_NUM_1 ]. Replacement:  160\n399  found in normalized_duplicates[ SR_NUM_1 ]. Replacement:  87\n834  found in normalized_duplicates[ SR_NUM_1 ]. Replacement:  542\n133  found in normalized_duplicates[ SR_NUM_1 ]. Replacement:  106\n910  found in normalized_duplicates[ SR_NUM_1 ]. Replacement:  16\n255  found in normalized_duplicates[ SR_NUM_1 ]. Replacement:  26\n418  found in normalized_duplicates[ SR_NUM_1 ]. Replacement:  114\n440  found in normalized_duplicates[ SR_NUM_1 ]. Replacement:  123\n558  found in normalized_duplicates[ SR_NUM_1 ]. Replacement:  132\n570  found in normalized_duplicates[ SR_NUM_1 ]. Replacement:  138\n915  found in normalized_duplicates[ SR_NUM_1 ]. Replacement:  26\n962  found in normalized_duplicates[ SR_NUM_1 ]. Replacement:  26\n669  found in normalized_duplicates[ SR_NUM_1 ]. Replacement:  271\n847  found in normalized_duplicates[ SR_NUM_1 ]. Replacement:  160\n994  found in normalized_duplicates[ SR_NUM_1 ]. Replacement:  160\n875  found in normalized_duplicates[ SR_NUM_1 ]. Replacement:  865\n872  found in normalized_duplicates[ SR_NUM_1 ]. Replacement:  40\n921  found in normalized_duplicates[ SR_NUM_1 ]. Replacement:  112\n1035  found in normalized_duplicates[ SR_NUM_1 ]. Replacement:  127\n1016  found in normalized_duplicates[ SR_NUM_1 ]. Replacement:  80\n137  found in normalized_duplicates[ SR_NUM_1 ]. Replacement:  40\n1050  found in normalized_duplicates[ SR_NUM_1 ]. Replacement:  53\n1008  found in normalized_duplicates[ SR_NUM_1 ]. Replacement:  287\n204  found in normalized_duplicates[ SR_NUM_1 ]. Replacement:  40\n1019  found in normalized_duplicates[ SR_NUM_1 ]. Replacement:  106\n1026  found in normalized_duplicates[ SR_NUM_1 ]. Replacement:  112\n878  found in normalized_duplicates[ SR_NUM_1 ]. Replacement:  87\n1065  found in normalized_duplicates[ SR_NUM_1 ]. Replacement:  935\n1101  found in normalized_duplicates[ SR_NUM_1 ]. Replacement:  379\n928  found in normalized_duplicates[ SR_NUM_1 ]. Replacement:  927\n780  found in normalized_duplicates[ SR_NUM_1 ]. Replacement:  118\n1018  found in normalized_duplicates[ SR_NUM_1 ]. Replacement:  106\n384  found in normalized_duplicates[ SR_NUM_1 ]. Replacement:  362\n988  found in normalized_duplicates[ SR_NUM_1 ]. Replacement:  854\n328  found in normalized_duplicates[ SR_NUM_1 ]. Replacement:  24\n922  found in normalized_duplicates[ SR_NUM_1 ]. Replacement:  114\n1062  found in normalized_duplicates[ SR_NUM_1 ]. Replacement:  40\n593  found in normalized_duplicates[ SR_NUM_1 ]. Replacement:  266\n871  found in normalized_duplicates[ SR_NUM_1 ]. Replacement:  76\n326  found in normalized_duplicates[ SR_NUM_1 ]. Replacement:  6\n615  found in normalized_duplicates[ SR_NUM_1 ]. Replacement:  273\n1113  found in normalized_duplicates[ SR_NUM_1 ]. Replacement:  401\n863  found in normalized_duplicates[ SR_NUM_1 ]. Replacement:  50\n1351  found in normalized_duplicates[ SR_NUM_1 ]. Replacement:  101\n1263  found in normalized_duplicates[ SR_NUM_1 ]. Replacement:  106\n1067  found in normalized_duplicates[ SR_NUM_1 ]. Replacement:  1021\n225  found in normalized_duplicates[ SR_NUM_1 ]. Replacement:  114\n1276  found in normalized_duplicates[ SR_NUM_1 ]. Replacement:  375\n1244  found in normalized_duplicates[ SR_NUM_1 ]. Replacement:  135\n364  found in normalized_duplicates[ SR_NUM_1 ]. Replacement:  6\n980  found in normalized_duplicates[ SR_NUM_1 ]. Replacement:  271\n1116  found in normalized_duplicates[ SR_NUM_1 ]. Replacement:  38\n1120  found in normalized_duplicates[ SR_NUM_1 ]. Replacement:  197\n1336  found in normalized_duplicates[ SR_NUM_1 ]. Replacement:  1107\n1334  found in normalized_duplicates[ SR_NUM_1 ]. Replacement:  379\n1447  found in normalized_duplicates[ SR_NUM_1 ]. Replacement:  1107\n1279  found in normalized_duplicates[ SR_NUM_1 ]. Replacement:  766\n1317  found in normalized_duplicates[ SR_NUM_1 ]. Replacement:  142\n1432  found in normalized_duplicates[ SR_NUM_1 ]. Replacement:  378\n1426  found in normalized_duplicates[ SR_NUM_1 ]. Replacement:  273\n1707  found in normalized_duplicates[ SR_NUM_1 ]. Replacement:  1092\n1443  found in normalized_duplicates[ SR_NUM_1 ]. Replacement:  710\n1452  found in normalized_duplicates[ SR_NUM_1 ]. Replacement:  1117\n1721  found in normalized_duplicates[ SR_NUM_1 ]. Replacement:  1719\n1085  found in normalized_duplicates[ SR_NUM_1 ]. Replacement:  365\n1100  found in normalized_duplicates[ SR_NUM_1 ]. Replacement:  634\n"
     ]
    },
    {
     "output_type": "execute_result",
     "data": {
      "text/plain": [
       "      SR_NUM_1  SR_NUM_2  SITE_NAME_COMPARISON_SCORE  STATE_COMPARISON_SCORE  \\\n",
       "0            3         1                           1                       1   \n",
       "62          30        29                           1                       1   \n",
       "50          34        24                           0                       0   \n",
       "9           41         2                           1                       1   \n",
       "21          44         5                           0                       1   \n",
       "...        ...       ...                         ...                     ...   \n",
       "647       1834       350                           0                       1   \n",
       "904       1841       946                           1                       1   \n",
       "686       1843       394                           1                       1   \n",
       "1006      1869       634                           1                       1   \n",
       "785       1887       636                           1                       1   \n",
       "\n",
       "      CITY_COMPARISON_SCORE  POSTAL_CODE_COMPARISON_SCORE  \\\n",
       "0                         1                             1   \n",
       "62                        1                             1   \n",
       "50                        1                             0   \n",
       "9                         1                             1   \n",
       "21                        1                             1   \n",
       "...                     ...                           ...   \n",
       "647                       1                             1   \n",
       "904                       1                             1   \n",
       "686                       1                             1   \n",
       "1006                      1                             1   \n",
       "785                       1                             1   \n",
       "\n",
       "      CONCAT_ADDRESS_COMPARISON_SCORE  NUM_OF_MATCHES_FOUND  \n",
       "0                                   3                     7  \n",
       "62                                  3                     7  \n",
       "50                                  3                     4  \n",
       "9                                   3                     7  \n",
       "21                                  3                     6  \n",
       "...                               ...                   ...  \n",
       "647                                 3                     6  \n",
       "904                                 3                     7  \n",
       "686                                 3                     7  \n",
       "1006                                3                     7  \n",
       "785                                 3                     7  \n",
       "\n",
       "[463 rows x 8 columns]"
      ],
      "text/html": "<div>\n<style scoped>\n    .dataframe tbody tr th:only-of-type {\n        vertical-align: middle;\n    }\n\n    .dataframe tbody tr th {\n        vertical-align: top;\n    }\n\n    .dataframe thead th {\n        text-align: right;\n    }\n</style>\n<table border=\"1\" class=\"dataframe\">\n  <thead>\n    <tr style=\"text-align: right;\">\n      <th></th>\n      <th>SR_NUM_1</th>\n      <th>SR_NUM_2</th>\n      <th>SITE_NAME_COMPARISON_SCORE</th>\n      <th>STATE_COMPARISON_SCORE</th>\n      <th>CITY_COMPARISON_SCORE</th>\n      <th>POSTAL_CODE_COMPARISON_SCORE</th>\n      <th>CONCAT_ADDRESS_COMPARISON_SCORE</th>\n      <th>NUM_OF_MATCHES_FOUND</th>\n    </tr>\n  </thead>\n  <tbody>\n    <tr>\n      <th>0</th>\n      <td>3</td>\n      <td>1</td>\n      <td>1</td>\n      <td>1</td>\n      <td>1</td>\n      <td>1</td>\n      <td>3</td>\n      <td>7</td>\n    </tr>\n    <tr>\n      <th>62</th>\n      <td>30</td>\n      <td>29</td>\n      <td>1</td>\n      <td>1</td>\n      <td>1</td>\n      <td>1</td>\n      <td>3</td>\n      <td>7</td>\n    </tr>\n    <tr>\n      <th>50</th>\n      <td>34</td>\n      <td>24</td>\n      <td>0</td>\n      <td>0</td>\n      <td>1</td>\n      <td>0</td>\n      <td>3</td>\n      <td>4</td>\n    </tr>\n    <tr>\n      <th>9</th>\n      <td>41</td>\n      <td>2</td>\n      <td>1</td>\n      <td>1</td>\n      <td>1</td>\n      <td>1</td>\n      <td>3</td>\n      <td>7</td>\n    </tr>\n    <tr>\n      <th>21</th>\n      <td>44</td>\n      <td>5</td>\n      <td>0</td>\n      <td>1</td>\n      <td>1</td>\n      <td>1</td>\n      <td>3</td>\n      <td>6</td>\n    </tr>\n    <tr>\n      <th>...</th>\n      <td>...</td>\n      <td>...</td>\n      <td>...</td>\n      <td>...</td>\n      <td>...</td>\n      <td>...</td>\n      <td>...</td>\n      <td>...</td>\n    </tr>\n    <tr>\n      <th>647</th>\n      <td>1834</td>\n      <td>350</td>\n      <td>0</td>\n      <td>1</td>\n      <td>1</td>\n      <td>1</td>\n      <td>3</td>\n      <td>6</td>\n    </tr>\n    <tr>\n      <th>904</th>\n      <td>1841</td>\n      <td>946</td>\n      <td>1</td>\n      <td>1</td>\n      <td>1</td>\n      <td>1</td>\n      <td>3</td>\n      <td>7</td>\n    </tr>\n    <tr>\n      <th>686</th>\n      <td>1843</td>\n      <td>394</td>\n      <td>1</td>\n      <td>1</td>\n      <td>1</td>\n      <td>1</td>\n      <td>3</td>\n      <td>7</td>\n    </tr>\n    <tr>\n      <th>1006</th>\n      <td>1869</td>\n      <td>634</td>\n      <td>1</td>\n      <td>1</td>\n      <td>1</td>\n      <td>1</td>\n      <td>3</td>\n      <td>7</td>\n    </tr>\n    <tr>\n      <th>785</th>\n      <td>1887</td>\n      <td>636</td>\n      <td>1</td>\n      <td>1</td>\n      <td>1</td>\n      <td>1</td>\n      <td>3</td>\n      <td>7</td>\n    </tr>\n  </tbody>\n</table>\n<p>463 rows × 8 columns</p>\n</div>"
     },
     "metadata": {},
     "execution_count": 35
    }
   ],
   "source": [
    "normalized_duplicates=replace_cyclic_dependencies(df=normalized_duplicates, child_indicator='SR_NUM_1', master_indicator='SR_NUM_2')\n",
    "normalized_duplicates"
   ]
  },
  {
   "source": [
    "## 6. CSV for static-analysis of matches"
   ],
   "cell_type": "markdown",
   "metadata": {}
  },
  {
   "cell_type": "code",
   "execution_count": 36,
   "metadata": {},
   "outputs": [
    {
     "output_type": "stream",
     "name": "stdout",
     "text": [
      "\nSuccessfully created \\Cleaned_Scores\\United_States_Cleaned_Feature_Scores.csv!\n\n\"SR_NUM_2\" will be the master record\n"
     ]
    }
   ],
   "source": [
    "write_df_to_csv(df=normalized_duplicates, root_dir=_CLEANED_SCORES_DIRECTORY, curr_country=curr_country, file_suffix='_Cleaned_Feature_Scores.csv')\n",
    "print('\\n\"SR_NUM_2\" will be the master record')"
   ]
  },
  {
   "source": [
    "## 7. Get the unique set of Master-Records and create a master CSV file for each country\n",
    "\n",
    "> a. Think of 'SR_NUM_1' as the list of incoming Primary-keys, and 'SR_NUM_2' as the value to which it should be mapped based on match-score\n",
    "\n",
    "> b. Hence, union of 'SR_NUM_1' & 'SR_NUM_2' will be entire set of duplicates\n",
    "\n",
    "> c. Stand-alone records in the current country_batch_dataframe will not fall in this entire set of duplicates\n",
    "\n",
    "> d. Master-records set wil be the sets of 'SR_NUM_2' & #c above."
   ],
   "cell_type": "markdown",
   "metadata": {}
  },
  {
   "cell_type": "code",
   "execution_count": 37,
   "metadata": {},
   "outputs": [
    {
     "output_type": "stream",
     "name": "stdout",
     "text": [
      "1900 records get merged into 1437\n\nSuccessfully created \\Master_Data\\United_States_Master.csv!\n"
     ]
    }
   ],
   "source": [
    "a1=set(normalized_duplicates['SR_NUM_1'].values.tolist())\n",
    "a2=set(normalized_duplicates['SR_NUM_2'].values.tolist())\n",
    "country_set=set(country_df.index.values.tolist())\n",
    "entire_duplicates_set=a1.union(a2)\n",
    "no_match_set=country_set.difference(entire_duplicates_set)\n",
    "master_record_ids=no_match_set.union(a2)\n",
    "\n",
    "\n",
    "\n",
    "country_df_copy=site_master_df[site_master_df['COUNTRY']==curr_country]\n",
    "preprocess_dataframe(df=country_df_copy)\n",
    "clean_dataframe(df=country_df_copy, replace_punctuations=False)\n",
    "\n",
    "print(f'{site_master_df.shape[0]} records get merged into {len(master_record_ids)}')\n",
    "#country_master_df=country_df_copy.loc[master_record_ids].drop('CONCAT_SRC',axis=1)\n",
    "country_master_df=country_df_copy.loc[master_record_ids]\n",
    "write_df_to_csv(df=country_master_df, root_dir=_MASTER_DATA_DIRECTORY, curr_country=curr_country, index_flag=True, file_suffix='_Master.csv')"
   ]
  },
  {
   "source": [
    "## 8. Get the normalized-duplicates into a CSV to show translation of incoming record into single golden record\n",
    "\n",
    "> a. Create a master_cross_reference_df for the master_record_ids with relevant scores scaled up by _SCALING_FACTOR, and other comparison scores set to 1\n",
    "\n",
    "> b. concat it with the normalized_duplicates dataframe"
   ],
   "cell_type": "markdown",
   "metadata": {}
  },
  {
   "cell_type": "code",
   "execution_count": 38,
   "metadata": {},
   "outputs": [
    {
     "output_type": "stream",
     "name": "stdout",
     "text": [
      "\nScaling up CONCAT_ADDRESS_COMPARISON_SCORE by 3\n\nSuccessfully created \\Master_Data\\United_States_Raw_Cross_Ref.csv!\n"
     ]
    }
   ],
   "source": [
    "master_record_score_array=[1.0]*len(master_record_ids)\n",
    "master_record_df_dict={'SR_NUM_1': list(master_record_ids), 'SR_NUM_2': list(master_record_ids), 'SITE_NAME_COMPARISON_SCORE': master_record_score_array, 'STATE_COMPARISON_SCORE': master_record_score_array, 'CITY_COMPARISON_SCORE': master_record_score_array, 'CONCAT_ADDRESS_COMPARISON_SCORE': master_record_score_array, 'POSTAL_CODE_COMPARISON_SCORE': master_record_score_array}\n",
    "\n",
    "cross_ref_df=pd.DataFrame(master_record_df_dict)\n",
    "\n",
    "scale_up_comparison_score(cross_ref_df,'CONCAT_ADDRESS_COMPARISON_SCORE',_SCALING_FACTOR)\n",
    "cross_ref_df['NUM_OF_MATCHES_FOUND']=cross_ref_df[_COLS_FOR_TOTAL_MATCH_CALC].sum(axis=1)\n",
    "\n",
    "\n",
    "cross_ref_df=cross_ref_df.append(normalized_duplicates)\n",
    "cross_ref_df.sort_values(by=['SR_NUM_1'], axis=0, inplace=True)\n",
    "\n",
    "write_df_to_csv(df=cross_ref_df, root_dir=_MASTER_DATA_DIRECTORY, curr_country=curr_country, file_suffix='_Raw_Cross_Ref.csv')"
   ]
  },
  {
   "source": [
    "## 9. Generate the report to display name & address fields of match-and-merge combinations\n",
    "\n",
    "> a. Merge the master_cross_reference_df with the country_batch_dataframe as a left-outer-join on Primary-key='SR_NUM_1'\n",
    "\n",
    "> b. Merge this master_cross_reference_df with the country_batch_dataframe as a left-outer-join on Primary-key='SR_NUM_2'"
   ],
   "cell_type": "markdown",
   "metadata": {}
  },
  {
   "cell_type": "code",
   "execution_count": 39,
   "metadata": {},
   "outputs": [
    {
     "output_type": "stream",
     "name": "stdout",
     "text": [
      "\nSuccessfully created \\Master_Data\\United_States_Cross_Ref_Full_Report.csv!\n"
     ]
    }
   ],
   "source": [
    "country_df_copy.reset_index(inplace=True)\n",
    "country_df_colnames=country_df_copy.columns.values\n",
    "\n",
    "country_df_copy.columns=[colname+'_1' for colname in country_df_colnames]\n",
    "cross_ref_df=cross_ref_df.merge(country_df_copy, how='left', on='SR_NUM_1')\n",
    "\n",
    "country_df_copy.columns=[colname+'_2' for colname in country_df_colnames]\n",
    "cross_ref_df=cross_ref_df.merge(country_df_copy, how='left', on='SR_NUM_2')\n",
    "cross_ref_df=cross_ref_df[['SR_NUM_1', 'SR_NUM_2', 'SITE_NAME_1','SITE_NAME_2','SITE_NAME_COMPARISON_SCORE','STATE_1','STATE_2','STATE_COMPARISON_SCORE', 'CITY_1','CITY_2','CITY_COMPARISON_SCORE','CONCAT_ADDRESS_1','CONCAT_ADDRESS_2','CONCAT_ADDRESS_COMPARISON_SCORE', 'POSTAL_CODE_1','POSTAL_CODE_2','POSTAL_CODE_COMPARISON_SCORE','NUM_OF_MATCHES_FOUND']]\n",
    "\n",
    "write_df_to_csv(df=cross_ref_df, root_dir=_MASTER_DATA_DIRECTORY, curr_country=curr_country, file_suffix='_Cross_Ref_Full_Report.csv')"
   ]
  }
 ]
}