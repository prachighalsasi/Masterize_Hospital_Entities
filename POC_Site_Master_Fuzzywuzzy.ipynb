{
 "metadata": {
  "language_info": {
   "codemirror_mode": {
    "name": "ipython",
    "version": 3
   },
   "file_extension": ".py",
   "mimetype": "text/x-python",
   "name": "python",
   "nbconvert_exporter": "python",
   "pygments_lexer": "ipython3",
   "version": "3.8.1-final"
  },
  "orig_nbformat": 2,
  "kernelspec": {
   "name": "python3",
   "display_name": "Python 3.8.1 32-bit",
   "metadata": {
    "interpreter": {
     "hash": "df07b04948fcdefd07d686a15c20f5c13147995460fc283da7a7d27998f2a407"
    }
   }
  }
 },
 "nbformat": 4,
 "nbformat_minor": 2,
 "cells": [
  {
   "cell_type": "code",
   "execution_count": 1,
   "metadata": {},
   "outputs": [
    {
     "output_type": "stream",
     "name": "stdout",
     "text": [
      "\nColumn Names are:  ['SOURCE_IDENTIFIER' 'DATA_SOURCE_NAME' 'PROTOCOL_NUMBER' 'SITE_NUM'\n 'UNIQUE_SITE_ID' 'COUNTRY' 'SITE_NAME' 'STATE' 'CITY' 'ADDRESS_LINE_1'\n 'ADDRESS_LINE_2' 'ADDRESS_LINE_3' 'POSTAL_CODE' 'SITE_STATUS'\n 'CONCAT_SRC_FIELDS'] \n\n\n ['Italy']\n"
     ]
    }
   ],
   "source": [
    "import time, numpy as np, pandas as pd, recordlinkage\n",
    "static_file_path=\"SM_Temp_Shortlist.xlsx\"\n",
    "site_master_df=pd.read_excel(static_file_path,index_col=0)\n",
    "site_master_df.replace(np.nan, '',inplace=True)\n",
    "for c in site_master_df.columns.values:\n",
    "    site_master_df[c]=site_master_df[c].astype(str)\n",
    "site_master_df['CONCAT_SRC_FIELDS']=site_master_df['SITE_NAME'] + site_master_df['STATE'] + \\\n",
    "              site_master_df['CITY'] + site_master_df['ADDRESS_LINE_1'] + site_master_df['ADDRESS_LINE_2'] + \\\n",
    "              site_master_df['ADDRESS_LINE_3'] + site_master_df['POSTAL_CODE']\n",
    "\n",
    "print('\\nColumn Names are: ', site_master_df.columns.values,'\\n')\n",
    "countries=site_master_df['COUNTRY'].unique()\n",
    "print('\\n',countries)"
   ]
  },
  {
   "source": [
    "### Initialize the country-level master dataset with first row of country-level excel file"
   ],
   "cell_type": "markdown",
   "metadata": {}
  },
  {
   "cell_type": "code",
   "execution_count": 30,
   "metadata": {},
   "outputs": [
    {
     "output_type": "execute_result",
     "data": {
      "text/plain": [
       "       SOURCE_IDENTIFIER DATA_SOURCE_NAME PROTOCOL_NUMBER SITE_NUM  \\\n",
       "SR_NUM                                                               \n",
       "1                    CDM             ICON          C16007    28001   \n",
       "\n",
       "       UNIQUE_SITE_ID COUNTRY  \\\n",
       "SR_NUM                          \n",
       "1                       Italy   \n",
       "\n",
       "                                                SITE_NAME STATE   CITY  \\\n",
       "SR_NUM                                                                   \n",
       "1       Cardiology - Amyloidosis Research & Treatment ...        Pavia   \n",
       "\n",
       "        ADDRESS_LINE_1 ADDRESS_LINE_2 ADDRESS_LINE_3 POSTAL_CODE SITE_STATUS  \\\n",
       "SR_NUM                                                                         \n",
       "1       Viale Golgi 19                                   27100.0      ACTIVE   \n",
       "\n",
       "                                        CONCAT_SRC_FIELDS  \n",
       "SR_NUM                                                     \n",
       "1       Cardiology - Amyloidosis Research & Treatment ...  "
      ],
      "text/html": "<div>\n<style scoped>\n    .dataframe tbody tr th:only-of-type {\n        vertical-align: middle;\n    }\n\n    .dataframe tbody tr th {\n        vertical-align: top;\n    }\n\n    .dataframe thead th {\n        text-align: right;\n    }\n</style>\n<table border=\"1\" class=\"dataframe\">\n  <thead>\n    <tr style=\"text-align: right;\">\n      <th></th>\n      <th>SOURCE_IDENTIFIER</th>\n      <th>DATA_SOURCE_NAME</th>\n      <th>PROTOCOL_NUMBER</th>\n      <th>SITE_NUM</th>\n      <th>UNIQUE_SITE_ID</th>\n      <th>COUNTRY</th>\n      <th>SITE_NAME</th>\n      <th>STATE</th>\n      <th>CITY</th>\n      <th>ADDRESS_LINE_1</th>\n      <th>ADDRESS_LINE_2</th>\n      <th>ADDRESS_LINE_3</th>\n      <th>POSTAL_CODE</th>\n      <th>SITE_STATUS</th>\n      <th>CONCAT_SRC_FIELDS</th>\n    </tr>\n    <tr>\n      <th>SR_NUM</th>\n      <th></th>\n      <th></th>\n      <th></th>\n      <th></th>\n      <th></th>\n      <th></th>\n      <th></th>\n      <th></th>\n      <th></th>\n      <th></th>\n      <th></th>\n      <th></th>\n      <th></th>\n      <th></th>\n      <th></th>\n    </tr>\n  </thead>\n  <tbody>\n    <tr>\n      <th>1</th>\n      <td>CDM</td>\n      <td>ICON</td>\n      <td>C16007</td>\n      <td>28001</td>\n      <td></td>\n      <td>Italy</td>\n      <td>Cardiology - Amyloidosis Research &amp; Treatment ...</td>\n      <td></td>\n      <td>Pavia</td>\n      <td>Viale Golgi 19</td>\n      <td></td>\n      <td></td>\n      <td>27100.0</td>\n      <td>ACTIVE</td>\n      <td>Cardiology - Amyloidosis Research &amp; Treatment ...</td>\n    </tr>\n  </tbody>\n</table>\n</div>"
     },
     "metadata": {},
     "execution_count": 30
    }
   ],
   "source": [
    "master_data_single_country=site_master_df.head(1)\n",
    "site_master_df=site_master_df.drop(index=master_data_single_country.index)\n",
    "master_data_single_country"
   ]
  },
  {
   "cell_type": "code",
   "execution_count": null,
   "metadata": {},
   "outputs": [],
   "source": []
  }
 ]
}